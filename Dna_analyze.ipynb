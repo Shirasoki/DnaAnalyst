{
 "cells": [
  {
   "cell_type": "code",
   "execution_count": 6,
   "metadata": {},
   "outputs": [],
   "source": [
    "import matplotlib.pyplot as plt\n",
    "import pandas as pd #probs not needed but i keep it here for now\n",
    "from collections import Counter"
   ]
  },
  {
   "cell_type": "code",
   "execution_count": 7,
   "metadata": {},
   "outputs": [],
   "source": [
    "def open_and_extract_data_from_file():\n",
    "    #opens the file with the seq, reads the seq, closes the file after, as a dict\n",
    "    sequences = []  # List to store seq\n",
    "    current_seq = None  # Temp dict seq\n",
    "\n",
    "    with open('dna_raw_complicated.txt', 'r') as dna_file:\n",
    "        for line in dna_file:\n",
    "            line = line.strip().upper()  # take away white spaces etc\n",
    "\n",
    "            if line.startswith('>'):\n",
    "                # new seq, saves last if needed\n",
    "                if current_seq:\n",
    "                    sequences.append(current_seq)\n",
    "                \n",
    "                # new dict for new seq\n",
    "                current_seq = {\"id\": line[4:], \"sequence\": \"\"}\n",
    "            elif current_seq:\n",
    "                # add seq to dict\n",
    "                current_seq[\"sequence\"] += line\n",
    "\n",
    "        # adding last seq\n",
    "        if current_seq:\n",
    "            sequences.append(current_seq)\n",
    "\n",
    "    return sequences # biig return here. gives you the correct seq\n",
    "\n",
    "def count_letters_in_sequence(sequence_string):\n",
    "   #Calculates the numbers, adding them to dict.\n",
    "    letter_count = Counter(sequence_string)\n",
    "    ordered_letters = ['A', 'T', 'C', 'G']  # keeps the letters in correct order. Btw this was a pain in the ass to figure out, shoutout to Stackoverflow.\n",
    "    return {letter: letter_count[letter] for letter in ordered_letters if letter in letter_count}"
   ]
  },
  {
   "cell_type": "code",
   "execution_count": null,
   "metadata": {},
   "outputs": [],
   "source": [
    "\n"
   ]
  }
 ],
 "metadata": {
  "kernelspec": {
   "display_name": ".venv",
   "language": "python",
   "name": "python3"
  },
  "language_info": {
   "codemirror_mode": {
    "name": "ipython",
    "version": 3
   },
   "file_extension": ".py",
   "mimetype": "text/x-python",
   "name": "python",
   "nbconvert_exporter": "python",
   "pygments_lexer": "ipython3",
   "version": "3.13.2"
  }
 },
 "nbformat": 4,
 "nbformat_minor": 2
}
